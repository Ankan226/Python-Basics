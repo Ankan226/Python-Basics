{
  "nbformat": 4,
  "nbformat_minor": 0,
  "metadata": {
    "colab": {
      "provenance": []
    },
    "kernelspec": {
      "name": "python3",
      "display_name": "Python 3"
    },
    "language_info": {
      "name": "python"
    }
  },
  "cells": [
    {
      "cell_type": "markdown",
      "source": [
        "1. Write a Python program to print \"Hello, World!\""
      ],
      "metadata": {
        "id": "Ctin0tjnXX_P"
      }
    },
    {
      "cell_type": "code",
      "source": [
        "print(\"Hello, World!\")"
      ],
      "metadata": {
        "colab": {
          "base_uri": "https://localhost:8080/"
        },
        "id": "zG5d6SrfXeJJ",
        "outputId": "69d7182a-f037-42b3-bb50-19688ee87e7a"
      },
      "execution_count": null,
      "outputs": [
        {
          "output_type": "stream",
          "name": "stdout",
          "text": [
            "Hello, World!\n"
          ]
        }
      ]
    },
    {
      "cell_type": "markdown",
      "source": [
        "2. Write a Python program that displays your name and age."
      ],
      "metadata": {
        "id": "FlsMnrZ4XulB"
      }
    },
    {
      "cell_type": "code",
      "source": [
        "print(input(\"Your Name:\"))\n",
        "print(input(\"Your Age:\"))"
      ],
      "metadata": {
        "colab": {
          "base_uri": "https://localhost:8080/"
        },
        "id": "zgX5yTZWXxdK",
        "outputId": "cab371fb-e7ef-40bd-cc8a-b9b622f87c41"
      },
      "execution_count": null,
      "outputs": [
        {
          "output_type": "stream",
          "name": "stdout",
          "text": [
            "Your Name:Ankan \n",
            "Ankan \n",
            "Your Age:20\n",
            "20\n"
          ]
        }
      ]
    },
    {
      "cell_type": "markdown",
      "source": [
        "3. Write code to print all the pre-defined keywords in Python using the keyword library."
      ],
      "metadata": {
        "id": "wZkjJCfBYJBU"
      }
    },
    {
      "cell_type": "code",
      "source": [
        "import keyword\n",
        "print(\"List of python keywords:\")\n",
        "for kw in keyword.kwlist:\n",
        "   print(kw)"
      ],
      "metadata": {
        "colab": {
          "base_uri": "https://localhost:8080/"
        },
        "id": "C_AGRmMFYMPp",
        "outputId": "821047af-cbcf-4d5c-d606-30b9105b8527"
      },
      "execution_count": null,
      "outputs": [
        {
          "output_type": "stream",
          "name": "stdout",
          "text": [
            "List of python keywords:\n",
            "False\n",
            "None\n",
            "True\n",
            "and\n",
            "as\n",
            "assert\n",
            "async\n",
            "await\n",
            "break\n",
            "class\n",
            "continue\n",
            "def\n",
            "del\n",
            "elif\n",
            "else\n",
            "except\n",
            "finally\n",
            "for\n",
            "from\n",
            "global\n",
            "if\n",
            "import\n",
            "in\n",
            "is\n",
            "lambda\n",
            "nonlocal\n",
            "not\n",
            "or\n",
            "pass\n",
            "raise\n",
            "return\n",
            "try\n",
            "while\n",
            "with\n",
            "yield\n"
          ]
        }
      ]
    },
    {
      "cell_type": "markdown",
      "source": [
        "4. Write a program that checks if a given word is a Python keyword"
      ],
      "metadata": {
        "id": "dOzSjjRnZUKH"
      }
    },
    {
      "cell_type": "code",
      "source": [
        "import keyword\n",
        "word=input(\"Enter a word to check if it is a python keyword or not:\")\n",
        "if keyword.iskeyword(word):\n",
        "    print(word,\"is a python keyword\")\n",
        "else:\n",
        "    print(word,\"is not a python keyword\")"
      ],
      "metadata": {
        "colab": {
          "base_uri": "https://localhost:8080/"
        },
        "id": "CK7TRAYgZWTS",
        "outputId": "6ef4f3c7-f264-4ab4-c225-77c7c4195460"
      },
      "execution_count": null,
      "outputs": [
        {
          "output_type": "stream",
          "name": "stdout",
          "text": [
            "Enter a word to check if it is a python keyword or not:nodejs\n",
            "nodejs is not a python keyword\n"
          ]
        }
      ]
    },
    {
      "cell_type": "markdown",
      "source": [
        "5. Create a list and tuple in Python, and demonstrate how attempting to change an element works differently\n",
        "for each"
      ],
      "metadata": {
        "id": "ce5xFCrjaiqc"
      }
    },
    {
      "cell_type": "code",
      "source": [
        "my_list=[1,2,3,4,5]\n",
        "my_list[0]=10\n",
        "print(\"Modified list:\",my_list)\n",
        "my_tuple=(1,2,3,4,5)\n",
        "print(\"Tuples are immutable, cannot change element.\")\n",
        "print(\"Original tuple:\",my_tuple)"
      ],
      "metadata": {
        "colab": {
          "base_uri": "https://localhost:8080/"
        },
        "id": "eEw7PkC4aOc3",
        "outputId": "d0c88d6f-b2da-4b60-a35a-8393e01f2b7d"
      },
      "execution_count": null,
      "outputs": [
        {
          "output_type": "stream",
          "name": "stdout",
          "text": [
            "Modified list: [10, 2, 3, 4, 5]\n",
            "Tuples are immutable, cannot change element.\n",
            "Original tuple: (1, 2, 3, 4, 5)\n"
          ]
        }
      ]
    },
    {
      "cell_type": "markdown",
      "source": [
        "6. Write a function to demonstrate the behavior of mutable and immutable arguments."
      ],
      "metadata": {
        "id": "-hfVBivvcE-n"
      }
    },
    {
      "cell_type": "code",
      "source": [
        "def mutable_immutable_example(mutable_arg,immutable_arg):\n",
        "    \"\"\"\n",
        "    arg:\n",
        "      mutable_arg: A mutable argument(list)\n",
        "      immutable_arg: An immutable argument(tuple)\n",
        "    \"\"\"\n",
        "    print(\"Inside the function:\")\n",
        "    print(\"Before modification:\")\n",
        "    print(\"Mutable argument:\",mutable_arg)\n",
        "    print(\"Immutable argument:\",immutable_arg)\n",
        "    mutable_arg.append(6)\n",
        "    immutable_arg=immutable_arg+(6)\n",
        "    print(\"After modification:\")\n",
        "    print(\"Mutable argument:\",mutable_arg)\n",
        "    print(\"Immutable argument:\",immutable_arg)\n",
        "    my_list=[1,2,3,4,5]\n",
        "    my_tuple=(1,2,3,4,5)\n",
        "    mutable_immutable_example(my_list,my_tuple)\n",
        "    print(\"Outside the function:\")\n",
        "    print(\"Mutable argument:\",my_list)\n",
        "    print(\"Immutable argument:\",my_tuple)\n",
        "mutable_immutable_example(mutable_arg,immutable_arg)\n"
      ],
      "metadata": {
        "colab": {
          "base_uri": "https://localhost:8080/",
          "height": 193
        },
        "id": "8xxT6zpdcIb6",
        "outputId": "5ea8c269-f18b-4434-ea33-d5f8c299c303"
      },
      "execution_count": null,
      "outputs": [
        {
          "output_type": "error",
          "ename": "NameError",
          "evalue": "name 'mutable_arg' is not defined",
          "traceback": [
            "\u001b[0;31m---------------------------------------------------------------------------\u001b[0m",
            "\u001b[0;31mNameError\u001b[0m                                 Traceback (most recent call last)",
            "\u001b[0;32m<ipython-input-23-fe7aac658453>\u001b[0m in \u001b[0;36m<cell line: 22>\u001b[0;34m()\u001b[0m\n\u001b[1;32m     20\u001b[0m     \u001b[0mprint\u001b[0m\u001b[0;34m(\u001b[0m\u001b[0;34m\"Mutable argument:\"\u001b[0m\u001b[0;34m,\u001b[0m\u001b[0mmy_list\u001b[0m\u001b[0;34m)\u001b[0m\u001b[0;34m\u001b[0m\u001b[0;34m\u001b[0m\u001b[0m\n\u001b[1;32m     21\u001b[0m     \u001b[0mprint\u001b[0m\u001b[0;34m(\u001b[0m\u001b[0;34m\"Immutable argument:\"\u001b[0m\u001b[0;34m,\u001b[0m\u001b[0mmy_tuple\u001b[0m\u001b[0;34m)\u001b[0m\u001b[0;34m\u001b[0m\u001b[0;34m\u001b[0m\u001b[0m\n\u001b[0;32m---> 22\u001b[0;31m \u001b[0mmutable_immutable_example\u001b[0m\u001b[0;34m(\u001b[0m\u001b[0mmutable_arg\u001b[0m\u001b[0;34m,\u001b[0m\u001b[0mimmutable_arg\u001b[0m\u001b[0;34m)\u001b[0m\u001b[0;34m\u001b[0m\u001b[0;34m\u001b[0m\u001b[0m\n\u001b[0m\u001b[1;32m     23\u001b[0m \u001b[0;34m\u001b[0m\u001b[0m\n",
            "\u001b[0;31mNameError\u001b[0m: name 'mutable_arg' is not defined"
          ]
        }
      ]
    },
    {
      "cell_type": "markdown",
      "source": [
        " 8. Write a program to demonstrate the use of logical operators."
      ],
      "metadata": {
        "id": "7wLNWduWcz4m"
      }
    },
    {
      "cell_type": "code",
      "source": [
        "a=True\n",
        "b=False\n",
        "if a and b :\n",
        "  print(\"both a and b are True\")\n",
        "else:\n",
        "  print(\"either a or b is False\")\n",
        "if a or b :\n",
        "  print(\"At least one of a or b is true\")\n",
        "else:\n",
        "  print(\"Both a and b are false\")\n",
        "if not a :\n",
        "  print(\"a is false\")\n",
        "else:\n",
        "  print(\"a is true\")\n",
        "\n",
        "x=4\n",
        "y=7\n",
        "if x>3 and y<15:\n",
        "  print(\"Both conditions are true\")\n",
        "else:\n",
        "  print(\"one or both conditions are false\")\n",
        "if x>8 or y<5:\n",
        "  print(\"Atleast one condition is true\")\n",
        "else:\n",
        "  print(\"both conditions are false\")"
      ],
      "metadata": {
        "colab": {
          "base_uri": "https://localhost:8080/"
        },
        "id": "XFY6e--Oc2kB",
        "outputId": "5a6daccd-f557-4c1f-fd09-7d5b2ecabe93"
      },
      "execution_count": null,
      "outputs": [
        {
          "output_type": "stream",
          "name": "stdout",
          "text": [
            "either a or b is False\n",
            "At least one of a or b is true\n",
            "a is true\n",
            "Both conditions are true\n",
            "both conditions are false\n"
          ]
        }
      ]
    },
    {
      "cell_type": "markdown",
      "source": [
        "9. Write a Python program to convert user input from string to integer, float, and boolean types."
      ],
      "metadata": {
        "id": "BBo5l3ffiNBv"
      }
    },
    {
      "cell_type": "code",
      "source": [
        "user_input=input(\"Enter a value:\")\n",
        "int_value=int(user_input)\n",
        "float_value=float(user_input)\n",
        "bool_value=bool(user_input)\n",
        "print(\"Integer value:\",int_value)\n",
        "print(\"Float value:\",float_value)\n",
        "print(\"Boolean value:\",bool_value)"
      ],
      "metadata": {
        "id": "mnsmRYbKjeEb",
        "colab": {
          "base_uri": "https://localhost:8080/"
        },
        "outputId": "65b0b996-07d8-4dc9-dd49-07776defb5ab"
      },
      "execution_count": 3,
      "outputs": [
        {
          "output_type": "stream",
          "name": "stdout",
          "text": [
            "Enter a value:365\n",
            "Integer value: 365\n",
            "Float value: 365.0\n",
            "Boolean value: True\n"
          ]
        }
      ]
    },
    {
      "cell_type": "markdown",
      "source": [
        "10. Write code to demonstrate type casting with list elements."
      ],
      "metadata": {
        "id": "JwY8Ntu3jYKI"
      }
    },
    {
      "cell_type": "code",
      "source": [
        "input_list=[\"10\",\"20.05\",\"true\",\"hello\"]\n",
        "\n",
        "int_list=[int(float(x)) if x.replace ('.',' ',1).isdigit() else None for x in input_list]\n",
        "float_list=[float(x) if x.replace ('.',' ',1).isdigit() else None for x in input_list]\n",
        "bool_list=[bool(x) for x in input_list]\n",
        "print(\"Original list:\",input_list)\n",
        "print(\"Integer list:\",int_list)\n",
        "print(\"Float list:\",float_list)\n",
        "print(\"Boolean list:\",bool_list)"
      ],
      "metadata": {
        "id": "pG3p9F5DjfhL",
        "colab": {
          "base_uri": "https://localhost:8080/"
        },
        "outputId": "6dbf5dee-4d92-4e47-fa06-e1130dba411e"
      },
      "execution_count": 6,
      "outputs": [
        {
          "output_type": "stream",
          "name": "stdout",
          "text": [
            "Original list: ['10', '20.05', 'true', 'hello']\n",
            "Integer list: [10, None, None, None]\n",
            "Float list: [10.0, None, None, None]\n",
            "Boolean list: [True, True, True, True]\n"
          ]
        }
      ]
    },
    {
      "cell_type": "markdown",
      "source": [
        "11. Write a program that checks if a number is positive, negative, or zero."
      ],
      "metadata": {
        "id": "Sc-oQpXQjiWp"
      }
    },
    {
      "cell_type": "code",
      "source": [
        "number=float(input(\"Enter a number:\"))\n",
        "if number > 0:\n",
        "   print(\"The number is positive.\")\n",
        "elif number < 0:\n",
        "   print(\"The number is negative.\")\n",
        "else:\n",
        "   print(\"The number is zero.\")"
      ],
      "metadata": {
        "id": "MuWpSlTjjWkZ",
        "colab": {
          "base_uri": "https://localhost:8080/"
        },
        "outputId": "2d0f9fed-5ae0-47bf-ad56-89669b2d1aad"
      },
      "execution_count": 9,
      "outputs": [
        {
          "output_type": "stream",
          "name": "stdout",
          "text": [
            "Enter a number:32.06594523\n",
            "The number is positive.\n"
          ]
        }
      ]
    },
    {
      "cell_type": "markdown",
      "source": [
        "12.  Write a for loop to print numbers from 1 to 100."
      ],
      "metadata": {
        "id": "OLhOmspzjx-d"
      }
    },
    {
      "cell_type": "code",
      "source": [
        "for number in range(1,101):\n",
        "    print(number)"
      ],
      "metadata": {
        "id": "LZEHkoZ_jxlZ",
        "colab": {
          "base_uri": "https://localhost:8080/"
        },
        "outputId": "04da729b-8d5c-4407-9430-698fba5f0163"
      },
      "execution_count": 13,
      "outputs": [
        {
          "output_type": "stream",
          "name": "stdout",
          "text": [
            "1\n",
            "2\n",
            "3\n",
            "4\n",
            "5\n",
            "6\n",
            "7\n",
            "8\n",
            "9\n",
            "10\n",
            "11\n",
            "12\n",
            "13\n",
            "14\n",
            "15\n",
            "16\n",
            "17\n",
            "18\n",
            "19\n",
            "20\n",
            "21\n",
            "22\n",
            "23\n",
            "24\n",
            "25\n",
            "26\n",
            "27\n",
            "28\n",
            "29\n",
            "30\n",
            "31\n",
            "32\n",
            "33\n",
            "34\n",
            "35\n",
            "36\n",
            "37\n",
            "38\n",
            "39\n",
            "40\n",
            "41\n",
            "42\n",
            "43\n",
            "44\n",
            "45\n",
            "46\n",
            "47\n",
            "48\n",
            "49\n",
            "50\n",
            "51\n",
            "52\n",
            "53\n",
            "54\n",
            "55\n",
            "56\n",
            "57\n",
            "58\n",
            "59\n",
            "60\n",
            "61\n",
            "62\n",
            "63\n",
            "64\n",
            "65\n",
            "66\n",
            "67\n",
            "68\n",
            "69\n",
            "70\n",
            "71\n",
            "72\n",
            "73\n",
            "74\n",
            "75\n",
            "76\n",
            "77\n",
            "78\n",
            "79\n",
            "80\n",
            "81\n",
            "82\n",
            "83\n",
            "84\n",
            "85\n",
            "86\n",
            "87\n",
            "88\n",
            "89\n",
            "90\n",
            "91\n",
            "92\n",
            "93\n",
            "94\n",
            "95\n",
            "96\n",
            "97\n",
            "98\n",
            "99\n",
            "100\n"
          ]
        }
      ]
    },
    {
      "cell_type": "markdown",
      "source": [
        "13. Write a Python program to find the sum of all even numbers between 1 and 50."
      ],
      "metadata": {
        "id": "rvugM_e5j_no"
      }
    },
    {
      "cell_type": "code",
      "source": [
        "sum_even=0\n",
        "for number in range(1,51):\n",
        "   if number%2==0:\n",
        "     sum_even+=number\n",
        "     print(number)\n",
        "print(\"Sum of all even numbers between 1 and 50 is:\",sum_even)"
      ],
      "metadata": {
        "id": "8Vp46axkjWdq",
        "colab": {
          "base_uri": "https://localhost:8080/"
        },
        "outputId": "dac4d819-2805-48dd-e0b1-71759d646a36"
      },
      "execution_count": 16,
      "outputs": [
        {
          "output_type": "stream",
          "name": "stdout",
          "text": [
            "2\n",
            "4\n",
            "6\n",
            "8\n",
            "10\n",
            "12\n",
            "14\n",
            "16\n",
            "18\n",
            "20\n",
            "22\n",
            "24\n",
            "26\n",
            "28\n",
            "30\n",
            "32\n",
            "34\n",
            "36\n",
            "38\n",
            "40\n",
            "42\n",
            "44\n",
            "46\n",
            "48\n",
            "50\n",
            "Sum of all even numbers between 1 and 50 is: 650\n"
          ]
        }
      ]
    },
    {
      "cell_type": "markdown",
      "source": [
        "14. Write a program to reverse a string using a while loop.\n",
        "\n",
        "\n",
        "\n"
      ],
      "metadata": {
        "id": "lEDTbMXZkH6v"
      }
    },
    {
      "cell_type": "code",
      "source": [
        "original_string=input(\"Enter a string:\")\n",
        "reversed_string=\" \"\n",
        "length=len(original_string)\n",
        "while length>0:\n",
        "   reversed_string+=original_string[length-1]\n",
        "   length-=1\n",
        "print(\"Reversed string:\",reversed_string)"
      ],
      "metadata": {
        "id": "CHjZOpdRjWXm",
        "colab": {
          "base_uri": "https://localhost:8080/"
        },
        "outputId": "ae6f23ac-41ae-4daf-a6e3-939a7efe94c0"
      },
      "execution_count": 17,
      "outputs": [
        {
          "output_type": "stream",
          "name": "stdout",
          "text": [
            "Enter a string:\"Hello,World!\"\n",
            "Reversed string:  \"!dlroW,olleH\"\n"
          ]
        }
      ]
    },
    {
      "cell_type": "markdown",
      "source": [
        "15. Write a Python program to calculate the factorial of a number provided by the user using a while loop."
      ],
      "metadata": {
        "id": "c8hfEUwskSh1"
      }
    },
    {
      "cell_type": "code",
      "source": [
        "import sys\n",
        "number=int(input(\"Enter a number:\"))\n",
        "factorial=1\n",
        "current_number=1\n",
        "while current_number<=number:\n",
        "   factorial *=current_number\n",
        "   current_number+=1\n",
        "\n",
        "sys.set_int_max_str_digits(0)\n",
        "print(\"The factorial of the number is:\",factorial)\n"
      ],
      "metadata": {
        "id": "1Txd4_dfjWUl",
        "colab": {
          "base_uri": "https://localhost:8080/"
        },
        "outputId": "545a493a-14bc-4dcf-b318-ba7379b93579"
      },
      "execution_count": 28,
      "outputs": [
        {
          "output_type": "stream",
          "name": "stdout",
          "text": [
            "Enter a number:365\n",
            "The factorial of the number is: 25104128675558732292929443748812027705165520269876079766872595193901106138220937419666018009000254169376172314360982328660708071123369979853445367910653872383599704355532740937678091491429440864316046925074510134847025546014098005907965541041195496105311886173373435145517193282760847755882291690213539123479186274701519396808504940722607033001246328398800550487427999876690416973437861078185344667966871511049653888130136836199010529180056125844549488648617682915826347564148990984138067809999604687488146734837340699359838791124995957584538873616661533093253551256845056046388738129702951381151861413688922986510005440943943014699244112555755279140760492764253740250410391056421979003289600000000000000000000000000000000000000000000000000000000000000000000000000000000000000000\n"
          ]
        }
      ]
    },
    {
      "cell_type": "code",
      "source": [],
      "metadata": {
        "id": "cp8Usw9fHs3s"
      },
      "execution_count": null,
      "outputs": []
    }
  ]
}